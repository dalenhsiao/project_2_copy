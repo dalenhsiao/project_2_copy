{
 "cells": [
  {
   "cell_type": "markdown",
   "metadata": {},
   "source": [
    "## Ans 1.1\n",
    "Run one episode with random actions. Check the observation dictionary returned by\n",
    "the environment. Store the observations (states) and rewards over time! What is your\n",
    "target state (desired goal) s∗? What is your final state sn at the 100-th time step?\n",
    "Plot the values of all the states over time!\n",
    "\n",
    "**Ans**\n",
    "\n",
    "![figure1](./figures/1_1.png)\n",
    "\n",
    "\n",
    "Final state at 100th time step : \n",
    "[ 0.43126793 -0.26964677  2.23678071  1.16072831  0.88760593  0.46060364]\n",
    "\n",
    "Desired state : \n",
    "[-2.600000e-01  1.400000e-01  0.000000e+00  0.000000e+00  6.123234e-17\n",
    "  1.000000e+00]"
   ]
  },
  {
   "cell_type": "markdown",
   "metadata": {},
   "source": [
    "## Ans 1.2\n",
    "\n",
    "Calculate the reward of the environment manually. The reward rt is defined as the\n",
    "negative of the weighted Euclidean norm of |st −s∗|. That is, for some weight β =\n",
    "[β(1),··· ,β(d)],\n",
    "\n",
    "where d is the dimension of the state variables and β = [1,0.3,0,0,0.02,0.02]. (Hint:\n",
    "Compare your manual calculation with the environment reward to check if you are\n",
    "correct!)\n",
    "\n",
    "\n",
    "**Manual Calculated Weigthed norm**\n",
    "\n",
    "![figure 1_2_1](./figures/1_2_1.png)\n",
    "\n",
    "\n",
    "**Comparison**\n",
    "\n",
    "![figure 1_2_2](./figures/1_2_2.png)"
   ]
  },
  {
   "cell_type": "markdown",
   "metadata": {},
   "source": [
    "## Ans 1.3\n",
    "Plot the positions (x and y coordinate) of the vehicle! What is the reward at the final time step in the episode? Show the rendered image of the environment at the final time step in the episode!\n",
    "\n",
    "**Coordinates**\n",
    "\n",
    "![figure 1_3_1](./figures/1_3.png)\n",
    "\n",
    "\n",
    "**Final State**\n",
    "\n",
    "![figure 1_3_2](./figures/1_3_2.png)\n"
   ]
  },
  {
   "cell_type": "markdown",
   "metadata": {},
   "source": [
    "## Ans 2.1\n",
    "\n",
    "Construct a NN model with one hidden layer with random initialization (the structure\n",
    "is given in the Colab notebook). Implement the forward pass. Perform one run of\n",
    "episode and plot the untrained NN predictions and the true values of all the states\n",
    "over time!\n",
    "\n",
    "![figure 2_1](./figures/2_1.png)"
   ]
  },
  {
   "cell_type": "markdown",
   "metadata": {},
   "source": [
    "## Ans 2.2\n",
    "Create a batch of experiences dataset D with n = 2000 using the provided function.\n",
    "Train a NN model that consists of one hidden layer with 128 nodes and ReLU activation\n",
    "(the structure is already provided in the Colab notebook). Use this dataset with\n",
    "training and validation ratio 70%-30% using Adam optimizer with learning rate 0.01\n",
    "and training epoch 1,000. Plot the MSE loss for training and validation set!\n",
    "\n",
    "**NLL loss**\n",
    "\n",
    "![figure 2_2](./figures/2_2.png)"
   ]
  },
  {
   "cell_type": "markdown",
   "metadata": {},
   "source": [
    "## Ans 2.3\n",
    "Perform one run of episode again and plot the trained NN predictions and the true\n",
    "values of all the states over time!\n",
    "\n",
    "![figure 2_3](./figures/2_3.png)"
   ]
  },
  {
   "cell_type": "markdown",
   "metadata": {},
   "source": [
    "## Ans 2.4\n",
    "\n",
    "Implement the CEM planner. Combine the NN model with CEM planner. Evaluate\n",
    "the performance of your model when planning using a time horizon H = 5 and K = 10\n",
    "possible action sequences only for n = 20 timesteps. Plot the rewards over time!\n",
    "\n",
    "\n",
    "![figure 2_4](./figures/2_4.png)"
   ]
  },
  {
   "cell_type": "markdown",
   "metadata": {},
   "source": [
    "## Ans 3.1\n",
    "Construct and train the provided GP model. Train the model using dataset D from\n",
    "2.2 with training and validation ratio 20%-80% using Adam optimizer with learning\n",
    "rate 0.2 and training epoch 15. Note that GP is more sample-efficient than NN, so\n",
    "we need fewer training samples for GP. More training samples will also slow down the\n",
    "speed. Plot the NLL loss for training and validation set!\n",
    "\n",
    "![figure 3_1](./figures/3_1.png)"
   ]
  },
  {
   "cell_type": "markdown",
   "metadata": {},
   "source": [
    "## Ans 3.2\n",
    "Perform one run of episode again for only n = 20 timesteps and plot the trained GP\n",
    "predictions and the true values of all the states over time!\n",
    "\n",
    "![figure 3_2](./figures/3_2.png)"
   ]
  },
  {
   "cell_type": "markdown",
   "metadata": {},
   "source": [
    "## Ans 3.3\n",
    "Combine the GP model with planning. Evaluate the performance of your model when\n",
    "planning using a time horizon H = 5 and K = 10 possible action sequences only for\n",
    "n = 20 timesteps. Plot the rewards over time!\n",
    "\n",
    "![figure 3_3](./figures/3_3.png)"
   ]
  },
  {
   "cell_type": "markdown",
   "metadata": {},
   "source": [
    "## Ans 3.4\n",
    "Compare NN and GP with the following metrics: final reward, prediction error, and\n",
    "computation time!\n",
    "\n",
    "**Ans**\n",
    "\n",
    "Final reward of NN with CEM:  -0.6422626130203086\n",
    "\n",
    "Final reward of GP with CEM:  -0.5752008359081332\n",
    "\n",
    "Neural network prediction error: 0.0018271555891260505\n",
    "\n",
    "Neural network computation time: 0.20585942268371582\n",
    "\n",
    "Gaussian process prediction error: 0.0008697591838426888\n",
    "\n",
    "Gaussian process computation time: 98.4386670589447"
   ]
  },
  {
   "cell_type": "markdown",
   "metadata": {},
   "source": []
  },
  {
   "cell_type": "code",
   "execution_count": null,
   "metadata": {},
   "outputs": [],
   "source": [
    "%run ~/s24-06642/s24.py\n",
    "%pdf"
   ]
  }
 ],
 "metadata": {
  "kernelspec": {
   "display_name": "py39",
   "language": "python",
   "name": "python3"
  },
  "language_info": {
   "codemirror_mode": {
    "name": "ipython",
    "version": 3
   },
   "file_extension": ".py",
   "mimetype": "text/x-python",
   "name": "python",
   "nbconvert_exporter": "python",
   "pygments_lexer": "ipython3",
   "version": "3.9.6"
  }
 },
 "nbformat": 4,
 "nbformat_minor": 2
}
